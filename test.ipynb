{
 "cells": [
  {
   "cell_type": "code",
   "execution_count": 16,
   "id": "7a680f53",
   "metadata": {},
   "outputs": [
    {
     "name": "stdout",
     "output_type": "stream",
     "text": [
      "Brand: Universal # Universal Home Video # My Big Fat Greek Wedding 2 (blu-Ray + Dvd + Digital), Rating: 0.42291300437942214\n",
      "Brand: Queen Helene Skin Cream, Lotion # Queen Helene # Queen Helene Cocoa Butter Solid, Rating: 0.399446541033171\n",
      "Brand: Test # Warner Home Video # Godzilla 3d Includes Digital Copy Ultraviolet 3d/2d Blu-Ray/dvd, Rating: 0.29494837403918983\n",
      "Brand: Lions Gate # Lionsgate Home Entertainment # Equals (blu-Ray), Rating: 0.28176036522937487\n",
      "Brand: Jarden Home Environment # Holmes # Holmes174 Personal Indoor Heater W/ Manual Controls White 1500w Hfh131-N, Rating: 0.2584799322864295\n"
     ]
    }
   ],
   "source": [
    "from modelservice import ModelService\n",
    "model_service = ModelService()\n",
    "\n",
    "recommendations, brands = model_service.get_top_n_recommendations_based_on_item('samantha', n=5)\n",
    "\n",
    "# Display the recommendations tuple with key-value pairs\n",
    "for brand, rating in recommendations.items():\n",
    "    print(f\"Brand: {brand}, Rating: {rating}\")\n",
    "# Note: The above code assumes that the ModelService class and its methods are correctly implemented."
   ]
  }
 ],
 "metadata": {
  "language_info": {
   "name": "python"
  }
 },
 "nbformat": 4,
 "nbformat_minor": 5
}
