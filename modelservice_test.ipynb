{
 "cells": [
  {
   "cell_type": "code",
   "execution_count": 32,
   "id": "ff9ed06d",
   "metadata": {},
   "outputs": [
    {
     "name": "stderr",
     "output_type": "stream",
     "text": [
      "/Users/piyushmundra/Library/Python/3.9/lib/python/site-packages/sklearn/base.py:493: UserWarning: X does not have valid feature names, but LogisticRegression was fitted with feature names\n",
      "  warnings.warn(\n"
     ]
    },
    {
     "data": {
      "text/html": [
       "<div>\n",
       "<style scoped>\n",
       "    .dataframe tbody tr th:only-of-type {\n",
       "        vertical-align: middle;\n",
       "    }\n",
       "\n",
       "    .dataframe tbody tr th {\n",
       "        vertical-align: top;\n",
       "    }\n",
       "\n",
       "    .dataframe thead th {\n",
       "        text-align: right;\n",
       "    }\n",
       "</style>\n",
       "<table border=\"1\" class=\"dataframe\">\n",
       "  <thead>\n",
       "    <tr style=\"text-align: right;\">\n",
       "      <th></th>\n",
       "      <th>name</th>\n",
       "      <th>sentiment</th>\n",
       "    </tr>\n",
       "  </thead>\n",
       "  <tbody>\n",
       "    <tr>\n",
       "      <th>0</th>\n",
       "      <td>My Big Fat Greek Wedding 2 (blu-Ray + Dvd + Di...</td>\n",
       "      <td>92.07%</td>\n",
       "    </tr>\n",
       "    <tr>\n",
       "      <th>1</th>\n",
       "      <td>Planes: Fire Rescue (2 Discs) (includes Digita...</td>\n",
       "      <td>87.92%</td>\n",
       "    </tr>\n",
       "    <tr>\n",
       "      <th>2</th>\n",
       "      <td>Godzilla 3d Includes Digital Copy Ultraviolet ...</td>\n",
       "      <td>85.68%</td>\n",
       "    </tr>\n",
       "    <tr>\n",
       "      <th>3</th>\n",
       "      <td>Clorox Disinfecting Wipes Value Pack Scented 1...</td>\n",
       "      <td>84.76%</td>\n",
       "    </tr>\n",
       "    <tr>\n",
       "      <th>4</th>\n",
       "      <td>The Resident Evil Collection 5 Discs (blu-Ray)</td>\n",
       "      <td>69.23%</td>\n",
       "    </tr>\n",
       "  </tbody>\n",
       "</table>\n",
       "</div>"
      ],
      "text/plain": [
       "                                                name sentiment\n",
       "0  My Big Fat Greek Wedding 2 (blu-Ray + Dvd + Di...    92.07%\n",
       "1  Planes: Fire Rescue (2 Discs) (includes Digita...    87.92%\n",
       "2  Godzilla 3d Includes Digital Copy Ultraviolet ...    85.68%\n",
       "3  Clorox Disinfecting Wipes Value Pack Scented 1...    84.76%\n",
       "4     The Resident Evil Collection 5 Discs (blu-Ray)    69.23%"
      ]
     },
     "execution_count": 32,
     "metadata": {},
     "output_type": "execute_result"
    }
   ],
   "source": [
    "import importlib\n",
    "import modelservice\n",
    "\n",
    "importlib.reload(modelservice)\n",
    "from modelservice import ModelService\n",
    "\n",
    "model_service = ModelService()\n",
    "\n",
    "username = 'samantha'\n",
    "\n",
    "# Use modelservice to get recommendations or data\n",
    "recommendations, brands = model_service.get_top_n_recommendations_based_on_user(username)\n",
    "\n",
    "# Fetch vectorized reviews for the recommendations\n",
    "top_products = model_service.get_top_productes_based_on_vectorized_reviews(recommendations)\n",
    "\n",
    "# Display the top products\n",
    "top_products.head(5)"
   ]
  }
 ],
 "metadata": {
  "language_info": {
   "name": "python"
  }
 },
 "nbformat": 4,
 "nbformat_minor": 5
}
